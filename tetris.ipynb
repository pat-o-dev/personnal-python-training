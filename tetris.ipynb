{
 "cells": [
  {
   "cell_type": "markdown",
   "id": "c54e051b",
   "metadata": {},
   "source": [
    "# Utilise Numpy pour refaire le tetris"
   ]
  },
  {
   "cell_type": "markdown",
   "id": "688f556d",
   "metadata": {},
   "source": [
    "## Init"
   ]
  },
  {
   "cell_type": "code",
   "execution_count": null,
   "id": "39f4d7f6",
   "metadata": {},
   "outputs": [],
   "source": [
    "import numpy as np\n",
    "\n",
    "GRID_HEIGHT = 20\n",
    "GRID_WIDTH = 10\n",
    "\n",
    "BLOC_SIZE = 30\n",
    "\n",
    "GUI_SIDE = 5\n",
    "GUI_TOP = 3\n",
    "\n",
    "WINDOW_HEIGHT = (GRID_HEIGHT + GUI_TOP) * BLOC_SIZE\n",
    "WINDOW_WIDTH = (GRID_WIDTH + GUI_SIDE) * BLOC_SIZE\n",
    "\n",
    "COLOR_BLACK = (0, 0, 0)\n",
    "COLOR_WHITE = (255, 255, 255)\n",
    "COLOR_RED = (255, 0, 0)\n",
    "COLOR_CYAN = (0, 255, 255)\n",
    "COLOR_ORANGE = (255, 128, 0)\n",
    "COLOR_GREEN = (0, 255, 0)\n",
    "COLOR_BLUE = (0, 0, 255)\n",
    "COLOR_PINK = (255, 0, 255)\n",
    "\n",
    "SHAPE_L = np.array([\n",
    "    [COLOR_RED, None],\n",
    "    [COLOR_RED, None],\n",
    "    [COLOR_RED, COLOR_RED],\n",
    "], dtype=object)\n",
    "SHAPE_I = np.array([\n",
    "    [COLOR_CYAN],\n",
    "    [COLOR_CYAN],\n",
    "    [COLOR_CYAN],\n",
    "    [COLOR_CYAN],\n",
    "], dtype=object)\n",
    "SHAPE_S = np.array([\n",
    "    [None, COLOR_ORANGE, COLOR_ORANGE],\n",
    "    [COLOR_ORANGE, COLOR_ORANGE, None],\n",
    "], dtype=object)\n",
    "SHAPE_O = np.array([\n",
    "    [COLOR_BLUE, COLOR_BLUE],\n",
    "    [COLOR_BLUE, COLOR_BLUE],\n",
    "], dtype=object)\n"
   ]
  },
  {
   "cell_type": "markdown",
   "id": "f07daed3",
   "metadata": {},
   "source": [
    "## Forme"
   ]
  },
  {
   "cell_type": "code",
   "execution_count": 30,
   "id": "37fd1673",
   "metadata": {},
   "outputs": [
    {
     "name": "stdout",
     "output_type": "stream",
     "text": [
      "Shape: [[None (255, 128, 0) (255, 128, 0)]\n",
      " [(255, 128, 0) (255, 128, 0) None]]\n",
      "Shape Rotate 90: [[(255, 128, 0) None]\n",
      " [(255, 128, 0) (255, 128, 0)]\n",
      " [None (255, 128, 0)]]\n",
      "Shape Rotate 180: [[None (255, 128, 0) (255, 128, 0)]\n",
      " [(255, 128, 0) (255, 128, 0) None]]\n",
      "Shape Rotate 270: [[(255, 128, 0) None]\n",
      " [(255, 128, 0) (255, 128, 0)]\n",
      " [None (255, 128, 0)]]\n"
     ]
    }
   ],
   "source": [
    "# forme\n",
    "shape = SHAPE_S\n",
    "\n",
    "print(f\"Shape: {shape}\")\n",
    "\n",
    "# on tourne la piece de 90 dans le sens horaire\n",
    "for i in range(3):\n",
    "    shape = np.rot90(shape)\n",
    "    print(f\"Shape Rotate {(i+1)*90}: {shape}\")"
   ]
  },
  {
   "cell_type": "markdown",
   "id": "b151e0f5",
   "metadata": {},
   "source": [
    "## Grille"
   ]
  },
  {
   "cell_type": "code",
   "execution_count": 26,
   "id": "dc162281",
   "metadata": {},
   "outputs": [
    {
     "name": "stdout",
     "output_type": "stream",
     "text": [
      "[[None None None None None None None None None None]\n",
      " [None None None None None None None None None None]\n",
      " [None None None None None None None None None None]\n",
      " [None None None None None None None None None None]\n",
      " [None None None None None None None None None None]\n",
      " [None None None None None None None None None None]\n",
      " [None None None None None None None None None None]\n",
      " [None None None None None None None None None None]\n",
      " [None None None None None None None None None None]\n",
      " [None None None None None None None None None None]\n",
      " [None None None None None None None None None None]\n",
      " [None None None None None None None None None None]\n",
      " [None None None None None None None None None None]\n",
      " [None None None None None None None None None None]\n",
      " [None None None None None None None None None None]\n",
      " [None None None None None None None None None None]\n",
      " [None None None None None None None None None None]\n",
      " [None None None None None None None None None None]\n",
      " [None None None None None None None None None None]\n",
      " [None None None None None None None None None None]]\n"
     ]
    }
   ],
   "source": [
    "# Genere la grille\n",
    "height = GRID_HEIGHT\n",
    "width = GRID_WIDTH\n",
    "\n",
    "grid = np.empty((height, width), dtype=object)\n",
    "\n",
    "print(grid)"
   ]
  }
 ],
 "metadata": {
  "kernelspec": {
   "display_name": ".venv",
   "language": "python",
   "name": "python3"
  },
  "language_info": {
   "codemirror_mode": {
    "name": "ipython",
    "version": 3
   },
   "file_extension": ".py",
   "mimetype": "text/x-python",
   "name": "python",
   "nbconvert_exporter": "python",
   "pygments_lexer": "ipython3",
   "version": "3.13.5"
  }
 },
 "nbformat": 4,
 "nbformat_minor": 5
}
